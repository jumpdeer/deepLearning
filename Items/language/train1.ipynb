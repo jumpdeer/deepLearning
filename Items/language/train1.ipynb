{
 "cells": [
  {
   "cell_type": "code",
   "execution_count": 14,
   "id": "initial_id",
   "metadata": {
    "ExecuteTime": {
     "end_time": "2025-02-13T13:18:48.798299Z",
     "start_time": "2025-02-13T13:18:48.792289Z"
    },
    "collapsed": true,
    "jupyter": {
     "outputs_hidden": true
    }
   },
   "outputs": [],
   "source": [
    "import pandas as pd\n",
    "\n",
    "from WordEmbedding import WordEmbeddingFromScratch\n",
    "import seaborn as sns\n",
    "import matplotlib.pyplot as plt\n",
    "from torch.utils.data import TensorDataset, DataLoader\n",
    "import torch\n",
    "import lightning as L\n",
    "import torch.nn as nn\n"
   ]
  },
  {
   "cell_type": "code",
   "execution_count": 15,
   "id": "51be923675623199",
   "metadata": {
    "ExecuteTime": {
     "end_time": "2025-02-13T13:18:48.946368Z",
     "start_time": "2025-02-13T13:18:48.930339Z"
    }
   },
   "outputs": [
    {
     "name": "stdout",
     "output_type": "stream",
     "text": [
      "Before optimization, the parameters are:\n",
      "input1_w1 tensor(-0.1115)\n",
      "input1_w2 tensor(0.3298)\n",
      "input2_w1 tensor(0.0690)\n",
      "input2_w2 tensor(0.4775)\n",
      "input3_w1 tensor(-0.2572)\n",
      "input3_w2 tensor(-0.2154)\n",
      "input4_w1 tensor(-0.3880)\n",
      "input4_w2 tensor(-0.2690)\n",
      "output1_w1 tensor(0.4387)\n",
      "output1_w2 tensor(0.3261)\n",
      "output2_w1 tensor(0.0019)\n",
      "output2_w2 tensor(-0.3343)\n",
      "output3_w1 tensor(-0.0054)\n",
      "output3_w2 tensor(0.2312)\n",
      "output4_w1 tensor(-0.4094)\n",
      "output4_w2 tensor(0.4361)\n"
     ]
    }
   ],
   "source": [
    "modelFromScratch = WordEmbeddingFromScratch()\n",
    "\n",
    "print(\"Before optimization, the parameters are:\")\n",
    "for name, param in modelFromScratch.named_parameters():\n",
    "    print(name, param.data)"
   ]
  },
  {
   "cell_type": "code",
   "execution_count": 16,
   "id": "3d84a1f9e9eda4d4",
   "metadata": {
    "ExecuteTime": {
     "end_time": "2025-02-13T13:18:49.063895Z",
     "start_time": "2025-02-13T13:18:49.056047Z"
    }
   },
   "outputs": [],
   "source": [
    "data = {\n",
    "    \"w1\": [modelFromScratch.input1_w1.item(),\n",
    "           modelFromScratch.input2_w1.item(),\n",
    "           modelFromScratch.input3_w1.item(),\n",
    "           modelFromScratch.input4_w1.item(),],\n",
    "    \"w2\": [modelFromScratch.input1_w2.item(),\n",
    "           modelFromScratch.input2_w2.item(),\n",
    "           modelFromScratch.input3_w2.item(),\n",
    "           modelFromScratch.input4_w2.item(),],\n",
    "    \"token\": [\"Troll2\", \"is\", \"great\", \"Gymkata\"],\n",
    "    \"input\": [\"input1\", \"input2\", \"input3\", \"input4\"]\n",
    "}"
   ]
  },
  {
   "cell_type": "code",
   "execution_count": 17,
   "id": "f46be0f81ba5cae0",
   "metadata": {
    "ExecuteTime": {
     "end_time": "2025-02-13T13:18:49.140217Z",
     "start_time": "2025-02-13T13:18:49.133061Z"
    }
   },
   "outputs": [],
   "source": [
    "inputs = torch.tensor([[1.,0.,0.,0.],\n",
    "                       [0.,1.,0.,0.],\n",
    "                       [0.,0.,1.,0.],\n",
    "                       [0.,0.,0.,1.]])\n",
    "\n",
    "labels = torch.tensor([[0.,1.,0.,0.],\n",
    "                       [0.,0.,1.,0.],\n",
    "                       [0.,0.,0.,1.],\n",
    "                       [0.,1.,0.,0.]])\n",
    "\n",
    "dataset = TensorDataset(inputs, labels)\n",
    "dataloader = DataLoader(dataset)"
   ]
  },
  {
   "cell_type": "code",
   "execution_count": 18,
   "id": "43ffa59e2379d746",
   "metadata": {
    "ExecuteTime": {
     "end_time": "2025-02-13T13:18:49.175813Z",
     "start_time": "2025-02-13T13:18:49.162403Z"
    }
   },
   "outputs": [
    {
     "data": {
      "text/html": [
       "<div>\n",
       "<style scoped>\n",
       "    .dataframe tbody tr th:only-of-type {\n",
       "        vertical-align: middle;\n",
       "    }\n",
       "\n",
       "    .dataframe tbody tr th {\n",
       "        vertical-align: top;\n",
       "    }\n",
       "\n",
       "    .dataframe thead th {\n",
       "        text-align: right;\n",
       "    }\n",
       "</style>\n",
       "<table border=\"1\" class=\"dataframe\">\n",
       "  <thead>\n",
       "    <tr style=\"text-align: right;\">\n",
       "      <th></th>\n",
       "      <th>w1</th>\n",
       "      <th>w2</th>\n",
       "      <th>token</th>\n",
       "      <th>input</th>\n",
       "    </tr>\n",
       "  </thead>\n",
       "  <tbody>\n",
       "    <tr>\n",
       "      <th>0</th>\n",
       "      <td>-0.111489</td>\n",
       "      <td>0.329771</td>\n",
       "      <td>Troll2</td>\n",
       "      <td>input1</td>\n",
       "    </tr>\n",
       "    <tr>\n",
       "      <th>1</th>\n",
       "      <td>0.068962</td>\n",
       "      <td>0.477473</td>\n",
       "      <td>is</td>\n",
       "      <td>input2</td>\n",
       "    </tr>\n",
       "    <tr>\n",
       "      <th>2</th>\n",
       "      <td>-0.257201</td>\n",
       "      <td>-0.215424</td>\n",
       "      <td>great</td>\n",
       "      <td>input3</td>\n",
       "    </tr>\n",
       "    <tr>\n",
       "      <th>3</th>\n",
       "      <td>-0.388038</td>\n",
       "      <td>-0.268969</td>\n",
       "      <td>Gymkata</td>\n",
       "      <td>input4</td>\n",
       "    </tr>\n",
       "  </tbody>\n",
       "</table>\n",
       "</div>"
      ],
      "text/plain": [
       "         w1        w2    token   input\n",
       "0 -0.111489  0.329771   Troll2  input1\n",
       "1  0.068962  0.477473       is  input2\n",
       "2 -0.257201 -0.215424    great  input3\n",
       "3 -0.388038 -0.268969  Gymkata  input4"
      ]
     },
     "execution_count": 18,
     "metadata": {},
     "output_type": "execute_result"
    }
   ],
   "source": [
    "df = pd.DataFrame(data)\n",
    "df"
   ]
  },
  {
   "cell_type": "code",
   "execution_count": 19,
   "id": "4542574bdcd11fa6",
   "metadata": {
    "ExecuteTime": {
     "end_time": "2025-02-13T13:18:49.550045Z",
     "start_time": "2025-02-13T13:18:49.258103Z"
    }
   },
   "outputs": [
    {
     "data": {
      "image/png": "[encoded data removed]",
      "text/plain": [
       "<Figure size 640x480 with 1 Axes>"
      ]
     },
     "metadata": {},
     "output_type": "display_data"
    }
   ],
   "source": [
    "sns.scatterplot(data=df, x=\"w1\", y=\"w2\")\n",
    "\n",
    "plt.text(df.w1[0], df.w2[0], df.token[0],\n",
    "         horizontalalignment='left',\n",
    "         size='medium',\n",
    "         color='black',\n",
    "         weight='semibold',)\n",
    "\n",
    "plt.text(df.w1[1], df.w2[1], df.token[1],\n",
    "         horizontalalignment='left',\n",
    "         size='medium',\n",
    "         color='black',\n",
    "         weight='semibold',)\n",
    "\n",
    "plt.text(df.w1[2], df.w2[2], df.token[2],\n",
    "         horizontalalignment='left',\n",
    "         size='medium',\n",
    "         color='black',\n",
    "         weight='semibold',)\n",
    "\n",
    "plt.text(df.w1[3], df.w2[3], df.token[3],\n",
    "        horizontalalignment='left',\n",
    "         size='medium',\n",
    "         color='black',\n",
    "         weight='semibold',)\n",
    "\n",
    "plt.show()"
   ]
  },
  {
   "cell_type": "code",
   "execution_count": 20,
   "id": "cb2688348b974345",
   "metadata": {
    "ExecuteTime": {
     "end_time": "2025-02-13T13:18:54.975271Z",
     "start_time": "2025-02-13T13:18:49.618339Z"
    }
   },
   "outputs": [
    {
     "name": "stderr",
     "output_type": "stream",
     "text": [
      "GPU available: False, used: False\n",
      "TPU available: False, using: 0 TPU cores\n",
      "HPU available: False, using: 0 HPUs\n",
      "\n",
      "  | Name         | Type             | Params | Mode \n",
      "----------------------------------------------------------\n",
      "0 | loss         | CrossEntropyLoss | 0      | train\n",
      "  | other params | n/a              | 16     | n/a  \n",
      "----------------------------------------------------------\n",
      "16        Trainable params\n",
      "0         Non-trainable params\n",
      "16        Total params\n",
      "0.000     Total estimated model params size (MB)\n",
      "C:\\Users\\admin\\.conda\\envs\\pytorch_learning\\lib\\site-packages\\lightning\\pytorch\\trainer\\connectors\\data_connector.py:424: The 'train_dataloader' does not have many workers which may be a bottleneck. Consider increasing the value of the `num_workers` argument` to `num_workers=15` in the `DataLoader` to improve performance.\n",
      "C:\\Users\\admin\\.conda\\envs\\pytorch_learning\\lib\\site-packages\\lightning\\pytorch\\loops\\fit_loop.py:298: The number of training batches (4) is smaller than the logging interval Trainer(log_every_n_steps=50). Set a lower value for log_every_n_steps if you want to see logs for the training epoch.\n"
     ]
    },
    {
     "data": {
      "application/vnd.jupyter.widget-view+json": {
       "model_id": "9a34291786c942f39fb4294019582309",
       "version_major": 2,
       "version_minor": 0
      },
      "text/plain": [
       "Training: |          | 0/? [00:00<?, ?it/s]"
      ]
     },
     "metadata": {},
     "output_type": "display_data"
    },
    {
     "name": "stderr",
     "output_type": "stream",
     "text": [
      "`Trainer.fit` stopped: `max_epochs=100` reached.\n"
     ]
    }
   ],
   "source": [
    "trainer = L.Trainer(max_epochs=100)\n",
    "trainer.fit(modelFromScratch, train_dataloaders=dataloader)"
   ]
  },
  {
   "cell_type": "code",
   "execution_count": 21,
   "id": "8a3cccccde1c528",
   "metadata": {
    "ExecuteTime": {
     "end_time": "2025-02-13T13:18:55.093575Z",
     "start_time": "2025-02-13T13:18:55.075244Z"
    }
   },
   "outputs": [
    {
     "data": {
      "text/html": [
       "<div>\n",
       "<style scoped>\n",
       "    .dataframe tbody tr th:only-of-type {\n",
       "        vertical-align: middle;\n",
       "    }\n",
       "\n",
       "    .dataframe tbody tr th {\n",
       "        vertical-align: top;\n",
       "    }\n",
       "\n",
       "    .dataframe thead th {\n",
       "        text-align: right;\n",
       "    }\n",
       "</style>\n",
       "<table border=\"1\" class=\"dataframe\">\n",
       "  <thead>\n",
       "    <tr style=\"text-align: right;\">\n",
       "      <th></th>\n",
       "      <th>w1</th>\n",
       "      <th>w2</th>\n",
       "      <th>token</th>\n",
       "      <th>input</th>\n",
       "    </tr>\n",
       "  </thead>\n",
       "  <tbody>\n",
       "    <tr>\n",
       "      <th>0</th>\n",
       "      <td>-1.535605</td>\n",
       "      <td>-2.023680</td>\n",
       "      <td>Troll2</td>\n",
       "      <td>input1</td>\n",
       "    </tr>\n",
       "    <tr>\n",
       "      <th>1</th>\n",
       "      <td>2.124276</td>\n",
       "      <td>1.980828</td>\n",
       "      <td>is</td>\n",
       "      <td>input2</td>\n",
       "    </tr>\n",
       "    <tr>\n",
       "      <th>2</th>\n",
       "      <td>-2.124045</td>\n",
       "      <td>1.787797</td>\n",
       "      <td>great</td>\n",
       "      <td>input3</td>\n",
       "    </tr>\n",
       "    <tr>\n",
       "      <th>3</th>\n",
       "      <td>-1.851225</td>\n",
       "      <td>-2.252706</td>\n",
       "      <td>Gymkata</td>\n",
       "      <td>input4</td>\n",
       "    </tr>\n",
       "  </tbody>\n",
       "</table>\n",
       "</div>"
      ],
      "text/plain": [
       "         w1        w2    token   input\n",
       "0 -1.535605 -2.023680   Troll2  input1\n",
       "1  2.124276  1.980828       is  input2\n",
       "2 -2.124045  1.787797    great  input3\n",
       "3 -1.851225 -2.252706  Gymkata  input4"
      ]
     },
     "execution_count": 21,
     "metadata": {},
     "output_type": "execute_result"
    }
   ],
   "source": [
    "data = {\n",
    "    \"w1\": [modelFromScratch.input1_w1.item(),\n",
    "           modelFromScratch.input2_w1.item(),\n",
    "           modelFromScratch.input3_w1.item(),\n",
    "           modelFromScratch.input4_w1.item(),],\n",
    "    \"w2\": [modelFromScratch.input1_w2.item(),\n",
    "           modelFromScratch.input2_w2.item(),\n",
    "           modelFromScratch.input3_w2.item(),\n",
    "           modelFromScratch.input4_w2.item(),],\n",
    "    \"token\": [\"Troll2\", \"is\", \"great\", \"Gymkata\"],\n",
    "    \"input\": [\"input1\", \"input2\", \"input3\", \"input4\"]\n",
    "}\n",
    "df = pd.DataFrame(data)\n",
    "df"
   ]
  },
  {
   "cell_type": "code",
   "execution_count": 22,
   "id": "2760b3bfbb357393",
   "metadata": {
    "ExecuteTime": {
     "end_time": "2025-02-13T13:18:55.582882Z",
     "start_time": "2025-02-13T13:18:55.297489Z"
    }
   },
   "outputs": [
    {
     "data": {
      "image/png": "[encoded data removed]",
      "text/plain": [
       "<Figure size 640x480 with 1 Axes>"
      ]
     },
     "metadata": {},
     "output_type": "display_data"
    }
   ],
   "source": [
    "sns.scatterplot(data=df, x=\"w1\", y=\"w2\")\n",
    "\n",
    "plt.text(df.w1[0]-0.2, df.w2[0]+0.1, df.token[0],\n",
    "         horizontalalignment='left',\n",
    "         size='medium',\n",
    "         color='black',\n",
    "         weight='semibold',)\n",
    "\n",
    "plt.text(df.w1[1], df.w2[1], df.token[1],\n",
    "         horizontalalignment='left',\n",
    "         size='medium',\n",
    "         color='black',\n",
    "         weight='semibold',)\n",
    "\n",
    "plt.text(df.w1[2], df.w2[2], df.token[2],\n",
    "         horizontalalignment='left',\n",
    "         size='medium',\n",
    "         color='black',\n",
    "         weight='semibold',)\n",
    "\n",
    "plt.text(df.w1[3]-0.3, df.w2[3]-0.3, df.token[3],\n",
    "        horizontalalignment='left',\n",
    "         size='medium',\n",
    "         color='black',\n",
    "         weight='semibold',)\n",
    "\n",
    "plt.show()"
   ]
  },
  {
   "cell_type": "code",
   "execution_count": 23,
   "id": "dcdab873c6f52771",
   "metadata": {
    "ExecuteTime": {
     "end_time": "2025-02-13T13:18:55.659232Z",
     "start_time": "2025-02-13T13:18:55.649051Z"
    }
   },
   "outputs": [
    {
     "name": "stdout",
     "output_type": "stream",
     "text": [
      "tensor([0., 1., 0., 0.], grad_fn=<RoundBackward1>)\n"
     ]
    }
   ],
   "source": [
    "softmax = nn.Softmax(dim=0)\n",
    "print(torch.round(softmax(modelFromScratch(torch.tensor([[1.,0. ,0.,0.]]))),decimals=2))"
   ]
  },
  {
   "cell_type": "code",
   "execution_count": 24,
   "id": "9f6afb97081db0bf",
   "metadata": {
    "ExecuteTime": {
     "end_time": "2025-02-13T13:18:55.799825Z",
     "start_time": "2025-02-13T13:18:55.790650Z"
    }
   },
   "outputs": [
    {
     "name": "stdout",
     "output_type": "stream",
     "text": [
      "tensor([0., 0., 1., 0.], grad_fn=<RoundBackward1>)\n"
     ]
    }
   ],
   "source": [
    "print(torch.round(softmax(modelFromScratch(torch.tensor([[0.,1. ,0.,0.]]))),decimals=2))"
   ]
  },
  {
   "cell_type": "code",
   "execution_count": 25,
   "id": "20823a3bf9c1872d",
   "metadata": {
    "ExecuteTime": {
     "end_time": "2025-02-13T13:18:55.915486Z",
     "start_time": "2025-02-13T13:18:55.905746Z"
    }
   },
   "outputs": [
    {
     "name": "stdout",
     "output_type": "stream",
     "text": [
      "tensor([0., 0., 0., 1.], grad_fn=<RoundBackward1>)\n"
     ]
    }
   ],
   "source": [
    "print(torch.round(softmax(modelFromScratch(torch.tensor([[0.,0. ,1.,0.]]))),decimals=2))"
   ]
  },
  {
   "cell_type": "code",
   "execution_count": 26,
   "id": "3d0acc06aafd70f3",
   "metadata": {
    "ExecuteTime": {
     "end_time": "2025-02-13T13:18:56.004429Z",
     "start_time": "2025-02-13T13:18:55.993287Z"
    }
   },
   "outputs": [
    {
     "name": "stdout",
     "output_type": "stream",
     "text": [
      "tensor([0., 1., 0., 0.], grad_fn=<RoundBackward1>)\n"
     ]
    }
   ],
   "source": [
    "print(torch.round(softmax(modelFromScratch(torch.tensor([[0.,0. ,0.,1.]]))),decimals=2))"
   ]
  },
  {
   "cell_type": "code",
   "execution_count": null,
   "id": "9dda47d3-6c71-4661-afa5-db125046a30b",
   "metadata": {},
   "outputs": [],
   "source": []
  }
 ],
 "metadata": {
  "kernelspec": {
   "display_name": "Python [conda env:.conda-pytorch_learning] *",
   "language": "python",
   "name": "conda-env-.conda-pytorch_learning-py"
  },
  "language_info": {
   "codemirror_mode": {
    "name": "ipython",
    "version": 3
   },
   "file_extension": ".py",
   "mimetype": "text/x-python",
   "name": "python",
   "nbconvert_exporter": "python",
   "pygments_lexer": "ipython3",
   "version": "3.8.20"
  }
 },
 "nbformat": 4,
 "nbformat_minor": 5
}
