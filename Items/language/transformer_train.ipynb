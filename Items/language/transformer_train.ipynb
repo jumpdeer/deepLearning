{
 "cells": [
  {
   "cell_type": "code",
   "id": "initial_id",
   "metadata": {
    "collapsed": true,
    "ExecuteTime": {
     "end_time": "2025-02-19T09:06:30.615582Z",
     "start_time": "2025-02-19T09:06:30.610580Z"
    }
   },
   "source": [
    "import torch\n",
    "import torch.nn as nn\n",
    "import torch.nn.functional as F\n",
    "\n",
    "from torch.optim import Adam\n",
    "from torch.utils.data import DataLoader, TensorDataset\n",
    "from transformer import DecoderOnlyTransformer\n",
    "\n",
    "import lightning as L"
   ],
   "outputs": [],
   "execution_count": 519
  },
  {
   "metadata": {
    "ExecuteTime": {
     "end_time": "2025-02-19T09:06:30.629591Z",
     "start_time": "2025-02-19T09:06:30.626078Z"
    }
   },
   "cell_type": "code",
   "source": [
    "token_to_id = {\n",
    "    'what' : 0,\n",
    "    'is' : 1,\n",
    "    'statquest' : 2,\n",
    "    'awesome' : 3,\n",
    "    '<EOS>' : 4\n",
    "}"
   ],
   "id": "2f14c3ac6e97a9ad",
   "outputs": [],
   "execution_count": 520
  },
  {
   "metadata": {
    "ExecuteTime": {
     "end_time": "2025-02-19T09:06:30.644151Z",
     "start_time": "2025-02-19T09:06:30.640130Z"
    }
   },
   "cell_type": "code",
   "source": "id_to_token = dict(map(reversed, token_to_id.items()))",
   "id": "182eeaa49d132a91",
   "outputs": [],
   "execution_count": 521
  },
  {
   "metadata": {
    "ExecuteTime": {
     "end_time": "2025-02-19T09:06:30.660668Z",
     "start_time": "2025-02-19T09:06:30.655648Z"
    }
   },
   "cell_type": "code",
   "source": [
    "inputs = torch.tensor([[token_to_id['what'],\n",
    "                        token_to_id['is'],\n",
    "                        token_to_id['statquest'],\n",
    "                        token_to_id['<EOS>'],\n",
    "                        token_to_id['awesome']],\n",
    "\n",
    "                      [token_to_id['statquest'],\n",
    "                       token_to_id['is'],\n",
    "                       token_to_id['what'],\n",
    "                       token_to_id['<EOS>'],\n",
    "                       token_to_id['awesome']]])"
   ],
   "id": "826849004fda82e",
   "outputs": [],
   "execution_count": 522
  },
  {
   "metadata": {
    "ExecuteTime": {
     "end_time": "2025-02-19T09:06:30.683729Z",
     "start_time": "2025-02-19T09:06:30.678732Z"
    }
   },
   "cell_type": "code",
   "source": [
    "labels = torch.tensor([[token_to_id['is'],\n",
    "                         token_to_id['statquest'],\n",
    "                         token_to_id['<EOS>'],\n",
    "                         token_to_id['awesome'],\n",
    "                         token_to_id['<EOS>']],\n",
    "\n",
    "                         [token_to_id['is'],\n",
    "                            token_to_id['what'],\n",
    "                            token_to_id['<EOS>'],\n",
    "                            token_to_id['awesome'],\n",
    "                            token_to_id['<EOS>']]])"
   ],
   "id": "6f18b869a41651d6",
   "outputs": [],
   "execution_count": 523
  },
  {
   "metadata": {
    "ExecuteTime": {
     "end_time": "2025-02-19T09:06:30.694929Z",
     "start_time": "2025-02-19T09:06:30.690930Z"
    }
   },
   "cell_type": "code",
   "source": [
    "dataset = TensorDataset(inputs, labels)\n",
    "dataloader = DataLoader(dataset)"
   ],
   "id": "7104ebe7c2809052",
   "outputs": [],
   "execution_count": 524
  },
  {
   "metadata": {
    "ExecuteTime": {
     "end_time": "2025-02-19T09:06:30.719075Z",
     "start_time": "2025-02-19T09:06:30.713757Z"
    }
   },
   "cell_type": "code",
   "source": "model = DecoderOnlyTransformer(num_tokens=len(token_to_id), d_model=2, max_len=6)",
   "id": "ab28e6e8e703118e",
   "outputs": [],
   "execution_count": 525
  },
  {
   "metadata": {
    "ExecuteTime": {
     "end_time": "2025-02-19T09:06:32.365828Z",
     "start_time": "2025-02-19T09:06:30.728587Z"
    }
   },
   "cell_type": "code",
   "source": [
    "trainer = L.Trainer(max_epochs=100)\n",
    "trainer.fit(model, train_dataloaders=dataloader)"
   ],
   "id": "accce6ec1b304c35",
   "outputs": [
    {
     "name": "stderr",
     "output_type": "stream",
     "text": [
      "GPU available: False, used: False\n",
      "TPU available: False, using: 0 TPU cores\n",
      "HPU available: False, using: 0 HPUs\n",
      "\n",
      "  | Name           | Type             | Params | Mode \n",
      "------------------------------------------------------------\n",
      "0 | we             | Embedding        | 10     | train\n",
      "1 | pe             | PositionEncoding | 0      | train\n",
      "2 | self_attention | Attention        | 12     | train\n",
      "3 | fc_layer       | Linear           | 15     | train\n",
      "4 | loss           | CrossEntropyLoss | 0      | train\n",
      "------------------------------------------------------------\n",
      "37        Trainable params\n",
      "0         Non-trainable params\n",
      "37        Total params\n",
      "0.000     Total estimated model params size (MB)\n"
     ]
    },
    {
     "data": {
      "text/plain": [
       "Training: |          | 0/? [00:00<?, ?it/s]"
      ],
      "application/vnd.jupyter.widget-view+json": {
       "version_major": 2,
       "version_minor": 0,
       "model_id": "017411061dcd4addad9e7c321b9d96a8"
      }
     },
     "metadata": {},
     "output_type": "display_data"
    },
    {
     "name": "stderr",
     "output_type": "stream",
     "text": [
      "`Trainer.fit` stopped: `max_epochs=100` reached.\n"
     ]
    }
   ],
   "execution_count": 526
  },
  {
   "metadata": {
    "ExecuteTime": {
     "end_time": "2025-02-19T09:06:32.401448Z",
     "start_time": "2025-02-19T09:06:32.397441Z"
    }
   },
   "cell_type": "code",
   "source": [
    "# model_input = torch.tensor([token_to_id['what'],\n",
    "#                         token_to_id['is'],\n",
    "#                         token_to_id['statquest'],\n",
    "#                         token_to_id['<EOS>']])\n",
    "\n",
    "model_input = torch.tensor([token_to_id['statquest'],\n",
    "                        token_to_id['is'],\n",
    "                        token_to_id['what'],\n",
    "                        token_to_id['<EOS>']])\n",
    "\n",
    "input_length = model_input.size(dim=0)"
   ],
   "id": "9d909781c4d46176",
   "outputs": [],
   "execution_count": 527
  },
  {
   "metadata": {
    "ExecuteTime": {
     "end_time": "2025-02-19T09:06:32.418466Z",
     "start_time": "2025-02-19T09:06:32.413959Z"
    }
   },
   "cell_type": "code",
   "source": [
    "predictions = model(model_input)\n",
    "predicted_id = torch.tensor([torch.argmax(predictions[-1,:])])\n",
    "predicted_ids = predicted_id"
   ],
   "id": "83becd18a45acd29",
   "outputs": [],
   "execution_count": 528
  },
  {
   "metadata": {
    "ExecuteTime": {
     "end_time": "2025-02-19T09:06:32.435749Z",
     "start_time": "2025-02-19T09:06:32.428742Z"
    }
   },
   "cell_type": "code",
   "source": [
    "max_length = 6\n",
    "for i in range(input_length, max_length):\n",
    "    if(predicted_id == token_to_id[\"<EOS>\"]):\n",
    "        break\n",
    "\n",
    "    model_input = torch.cat((model_input, predicted_id))\n",
    "\n",
    "    predictions = model(model_input)\n",
    "    predicted_id = torch.tensor([torch.argmax(predictions[-1,:])])\n",
    "    predicted_ids = torch.cat((predicted_ids, predicted_id))"
   ],
   "id": "a4de7004b5c7ddbc",
   "outputs": [],
   "execution_count": 529
  },
  {
   "metadata": {
    "ExecuteTime": {
     "end_time": "2025-02-19T09:06:32.455481Z",
     "start_time": "2025-02-19T09:06:32.449479Z"
    }
   },
   "cell_type": "code",
   "source": [
    "print(\"Predicted Tokens:\\n\")\n",
    "for id in predicted_ids:\n",
    "    print(\"\\t\",id_to_token[id.item()])"
   ],
   "id": "c2616d133d24313b",
   "outputs": [
    {
     "name": "stdout",
     "output_type": "stream",
     "text": [
      "Predicted Tokens:\n",
      "\n",
      "\t statquest\n",
      "\t statquest\n",
      "\t statquest\n"
     ]
    }
   ],
   "execution_count": 530
  }
 ],
 "metadata": {
  "kernelspec": {
   "display_name": "Python [conda env:.conda-pytorch_learning] *",
   "language": "python",
   "name": "conda-env-.conda-pytorch_learning-py"
  },
  "language_info": {
   "codemirror_mode": {
    "name": "ipython",
    "version": 2
   },
   "file_extension": ".py",
   "mimetype": "text/x-python",
   "name": "python",
   "nbconvert_exporter": "python",
   "pygments_lexer": "ipython2",
   "version": "2.7.6"
  }
 },
 "nbformat": 4,
 "nbformat_minor": 5
}
