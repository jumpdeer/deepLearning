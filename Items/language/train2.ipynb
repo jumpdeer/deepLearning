{
 "cells": [
  {
   "cell_type": "code",
   "execution_count": null,
   "id": "initial_id",
   "metadata": {
    "jupyter": {
     "is_executing": true
    }
   },
   "outputs": [],
   "source": [
    "import matplotlib.pyplot as plt\n",
    "import pandas as pd\n",
    "\n",
    "from WordEmbedding import WordEmbeddingWithLinear\n",
    "from torch.utils.data import TensorDataset, DataLoader\n",
    "import torch\n",
    "import lightning as L\n",
    "import torch.nn as nn\n",
    "\n",
    "import seaborn as sns"
   ]
  },
  {
   "cell_type": "code",
   "execution_count": null,
   "id": "4b0c4b7a5083fe26",
   "metadata": {
    "ExecuteTime": {
     "end_time": "2025-02-13T13:04:10.437882200Z",
     "start_time": "2025-02-13T13:02:47.167925Z"
    }
   },
   "outputs": [],
   "source": [
    "modelLinear = WordEmbeddingWithLinear()\n",
    "\n",
    "data = {\n",
    "    \"w1\": modelLinear.input_to_hidden.weight.detach()[0].numpy(),\n",
    "    \"w2\": modelLinear.input_to_hidden.weight.detach()[1].numpy(),\n",
    "    \"token\": [\"Troll2\", \"is\", \"great\", \"Gymkata\"],\n",
    "    \"input\": [\"input1\", \"input2\", \"input3\", \"input4\"]\n",
    "}\n",
    "df = pd.DataFrame(data)\n",
    "df"
   ]
  },
  {
   "cell_type": "code",
   "execution_count": null,
   "id": "969273e384c74519",
   "metadata": {
    "ExecuteTime": {
     "end_time": "2025-02-13T13:04:10.484700800Z",
     "start_time": "2025-02-13T13:02:47.277306Z"
    }
   },
   "outputs": [],
   "source": [
    "inputs = torch.tensor([[1.,0.,0.,0.],\n",
    "                       [0.,1.,0.,0.],\n",
    "                       [0.,0.,1.,0.],\n",
    "                       [0.,0.,0.,1.]])\n",
    "\n",
    "labels = torch.tensor([[0.,1.,0.,0.],\n",
    "                       [0.,0.,1.,0.],\n",
    "                       [0.,0.,0.,1.],\n",
    "                       [0.,1.,0.,0.]])\n",
    "\n",
    "dataset = TensorDataset(inputs, labels)\n",
    "dataloader = DataLoader(dataset)\n"
   ]
  },
  {
   "cell_type": "code",
   "execution_count": null,
   "id": "3559ea85c1d08c24",
   "metadata": {
    "ExecuteTime": {
     "end_time": "2025-02-13T13:04:10.487222400Z",
     "start_time": "2025-02-13T13:02:47.405072Z"
    }
   },
   "outputs": [],
   "source": [
    "sns.scatterplot(data=df, x=\"w1\", y=\"w2\")\n",
    "\n",
    "plt.text(df.w1[0], df.w2[0], df.token[0],\n",
    "         horizontalalignment=\"left\",\n",
    "         size=\"medium\",\n",
    "         color=\"black\",\n",
    "         weight=\"semibold\",)\n",
    "plt.text(df.w1[1], df.w2[1], df.token[1],\n",
    "         horizontalalignment=\"left\",\n",
    "         size=\"medium\",\n",
    "         color=\"black\",\n",
    "         weight=\"semibold\",)\n",
    "plt.text(df.w1[2], df.w2[2], df.token[2],\n",
    "         horizontalalignment=\"left\",\n",
    "         size=\"medium\",\n",
    "         color=\"black\",\n",
    "         weight=\"semibold\",)\n",
    "plt.text(df.w1[3], df.w2[3], df.token[3],\n",
    "         horizontalalignment=\"left\",\n",
    "         size=\"medium\",\n",
    "         color=\"black\",\n",
    "         weight=\"semibold\",)\n",
    "plt.show()"
   ]
  },
  {
   "cell_type": "code",
   "execution_count": null,
   "id": "cce2ba1b0498ab6b",
   "metadata": {
    "ExecuteTime": {
     "end_time": "2025-02-13T13:04:10.523023100Z",
     "start_time": "2025-02-13T13:02:47.892207Z"
    }
   },
   "outputs": [],
   "source": [
    "trainer = L.Trainer(max_epochs=100)\n",
    "trainer.fit(modelLinear, train_dataloaders=dataloader)"
   ]
  },
  {
   "cell_type": "code",
   "execution_count": null,
   "id": "f1cc1e8632d6c8e1",
   "metadata": {},
   "outputs": [],
   "source": [
    "data = {\n",
    "    \"w1\": modelLinear.input_to_hidden.weight.detach()[0].numpy(),\n",
    "    \"w2\": modelLinear.input_to_hidden.weight.detach()[1].numpy(),\n",
    "    \"token\": [\"Troll2\", \"is\", \"great\", \"Gymkata\"],\n",
    "    \"input\": [\"input1\", \"input2\", \"input3\", \"input4\"]\n",
    "}\n",
    "df = pd.DataFrame(data)\n",
    "df"
   ]
  },
  {
   "cell_type": "code",
   "execution_count": null,
   "id": "7399906370fabde3",
   "metadata": {},
   "outputs": [],
   "source": [
    "sns.scatterplot(data=df, x=\"w1\", y=\"w2\")\n",
    "\n",
    "plt.text(df.w1[0]-0.2, df.w2[0]+0.1, df.token[0],\n",
    "         horizontalalignment='left',\n",
    "         size='medium',\n",
    "         color='black',\n",
    "         weight='semibold',)\n",
    "\n",
    "plt.text(df.w1[1], df.w2[1], df.token[1],\n",
    "         horizontalalignment='left',\n",
    "         size='medium',\n",
    "         color='black',\n",
    "         weight='semibold',)\n",
    "\n",
    "plt.text(df.w1[2], df.w2[2], df.token[2],\n",
    "         horizontalalignment='left',\n",
    "         size='medium',\n",
    "         color='black',\n",
    "         weight='semibold',)\n",
    "\n",
    "plt.text(df.w1[3]-0.3, df.w2[3]-0.3, df.token[3],\n",
    "        horizontalalignment='left',\n",
    "         size='medium',\n",
    "         color='black',\n",
    "         weight='semibold',)\n",
    "\n",
    "plt.show()"
   ]
  },
  {
   "cell_type": "code",
   "execution_count": null,
   "id": "b141c2ca-8f43-4ffd-9164-1d327dceb7f9",
   "metadata": {},
   "outputs": [],
   "source": [
    "softmax = nn.Softmax(dim=0)\n",
    "print(torch.round(softmax(modelLinear(torch.tensor([[1.,0. ,0.,0.]]))),decimals=2))"
   ]
  },
  {
   "cell_type": "code",
   "execution_count": null,
   "id": "0f09a671-94d9-47c7-b39a-5d13072106ae",
   "metadata": {},
   "outputs": [],
   "source": [
    "print(torch.round(softmax(modelLinear(torch.tensor([[0.,1. ,0.,0.]]))),decimals=2))"
   ]
  },
  {
   "cell_type": "code",
   "execution_count": null,
   "id": "59d15aef-f1b0-4423-a943-afaa05851ae7",
   "metadata": {},
   "outputs": [],
   "source": [
    "print(torch.round(softmax(modelLinear(torch.tensor([[0.,0. ,1.,0.]]))),decimals=2))"
   ]
  },
  {
   "cell_type": "code",
   "execution_count": null,
   "id": "f2437abb-84ec-4c8c-86c8-fdfd904a04a7",
   "metadata": {},
   "outputs": [],
   "source": [
    "print(torch.round(softmax(modelLinear(torch.tensor([[0.,0. ,0.,1.]]))),decimals=2))"
   ]
  }
 ],
 "metadata": {
  "kernelspec": {
   "display_name": "Python [conda env:.conda-pytorch_learning] *",
   "language": "python",
   "name": "conda-env-.conda-pytorch_learning-py"
  },
  "language_info": {
   "codemirror_mode": {
    "name": "ipython",
    "version": 3
   },
   "file_extension": ".py",
   "mimetype": "text/x-python",
   "name": "python",
   "nbconvert_exporter": "python",
   "pygments_lexer": "ipython3",
   "version": "3.8.20"
  }
 },
 "nbformat": 4,
 "nbformat_minor": 5
}
